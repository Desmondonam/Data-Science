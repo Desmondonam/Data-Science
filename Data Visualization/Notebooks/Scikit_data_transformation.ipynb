{
  "nbformat": 4,
  "nbformat_minor": 0,
  "metadata": {
    "colab": {
      "name": "Scikit_data_transformation.ipynb",
      "version": "0.3.2",
      "provenance": []
    },
    "kernelspec": {
      "name": "python3",
      "display_name": "Python 3"
    }
  },
  "cells": [
    {
      "cell_type": "markdown",
      "metadata": {
        "id": "_7KECAk979Lv",
        "colab_type": "text"
      },
      "source": [
        "# **Standardization**"
      ]
    },
    {
      "cell_type": "code",
      "metadata": {
        "id": "e6QssV-Kel5r",
        "colab_type": "code",
        "cellView": "both",
        "colab": {}
      },
      "source": [
        "#Import\n",
        "from sklearn import preprocessing\n",
        "import numpy as np"
      ],
      "execution_count": 0,
      "outputs": []
    },
    {
      "cell_type": "code",
      "metadata": {
        "id": "j13w4KfBe4OG",
        "colab_type": "code",
        "colab": {}
      },
      "source": [
        "#Training data\n",
        "X_train = np.array([[ 1., -1.,  2.],\n",
        "                    [ 2.,  0.,  0.],\n",
        "                    [ 0.,  1., -1.]])\n"
      ],
      "execution_count": 0,
      "outputs": []
    },
    {
      "cell_type": "code",
      "metadata": {
        "id": "YOBNPWQjwlQR",
        "colab_type": "code",
        "outputId": "281d8da8-dd6b-4f23-fd13-a9f4fa3b5cc1",
        "colab": {
          "base_uri": "https://localhost:8080/",
          "height": 34
        }
      },
      "source": [
        "#Calculate the mean of X_train\n",
        "X_train.mean(axis=0)"
      ],
      "execution_count": 0,
      "outputs": [
        {
          "output_type": "execute_result",
          "data": {
            "text/plain": [
              "array([1.        , 0.        , 0.33333333])"
            ]
          },
          "metadata": {
            "tags": []
          },
          "execution_count": 3
        }
      ]
    },
    {
      "cell_type": "code",
      "metadata": {
        "id": "c_dNqwwuxMvA",
        "colab_type": "code",
        "outputId": "bbb73781-4549-4690-df71-a544e9e2d61b",
        "colab": {
          "base_uri": "https://localhost:8080/",
          "height": 34
        }
      },
      "source": [
        "#Calculate the standard deviation of X_train\n",
        "X_train.std(axis=0)"
      ],
      "execution_count": 0,
      "outputs": [
        {
          "output_type": "execute_result",
          "data": {
            "text/plain": [
              "array([0.81649658, 0.81649658, 1.24721913])"
            ]
          },
          "metadata": {
            "tags": []
          },
          "execution_count": 4
        }
      ]
    },
    {
      "cell_type": "code",
      "metadata": {
        "id": "A3xanskbwmja",
        "colab_type": "code",
        "colab": {}
      },
      "source": [
        "#Transform X_train with function scale to zero mean and unit variance\n",
        "X_scaled = preprocessing.scale(X_train)"
      ],
      "execution_count": 0,
      "outputs": []
    },
    {
      "cell_type": "code",
      "metadata": {
        "id": "ctyTw4MaobQt",
        "colab_type": "code",
        "outputId": "3de7bb69-961d-47de-e212-7558823d8607",
        "colab": {
          "base_uri": "https://localhost:8080/",
          "height": 68
        }
      },
      "source": [
        "#Show X_scaled\n",
        "X_scaled"
      ],
      "execution_count": 0,
      "outputs": [
        {
          "output_type": "execute_result",
          "data": {
            "text/plain": [
              "array([[ 0.        , -1.22474487,  1.33630621],\n",
              "       [ 1.22474487,  0.        , -0.26726124],\n",
              "       [-1.22474487,  1.22474487, -1.06904497]])"
            ]
          },
          "metadata": {
            "tags": []
          },
          "execution_count": 6
        }
      ]
    },
    {
      "cell_type": "code",
      "metadata": {
        "id": "UrXiZylDoiSt",
        "colab_type": "code",
        "outputId": "f235433f-f852-4c3f-ff63-7cb1bbab68da",
        "colab": {
          "base_uri": "https://localhost:8080/",
          "height": 34
        }
      },
      "source": [
        "#Calculate the mean of X_scaled\n",
        "X_scaled.mean(axis=0)"
      ],
      "execution_count": 0,
      "outputs": [
        {
          "output_type": "execute_result",
          "data": {
            "text/plain": [
              "array([0., 0., 0.])"
            ]
          },
          "metadata": {
            "tags": []
          },
          "execution_count": 7
        }
      ]
    },
    {
      "cell_type": "code",
      "metadata": {
        "id": "qGP9y7Igoj5E",
        "colab_type": "code",
        "outputId": "d8989db2-ab4a-4439-825d-f626f6f3b676",
        "colab": {
          "base_uri": "https://localhost:8080/",
          "height": 34
        }
      },
      "source": [
        "#Calculate the standard deviation of X_scaled\n",
        "X_scaled.std(axis=0)"
      ],
      "execution_count": 0,
      "outputs": [
        {
          "output_type": "execute_result",
          "data": {
            "text/plain": [
              "array([1., 1., 1.])"
            ]
          },
          "metadata": {
            "tags": []
          },
          "execution_count": 8
        }
      ]
    },
    {
      "cell_type": "markdown",
      "metadata": {
        "id": "OEQNQbGgzvqM",
        "colab_type": "text"
      },
      "source": [
        "\"**StandardScaler**\" is the equivalent function to \"**scale**\", but  with the estimator API.\n",
        "\n",
        "Possible: Compute the mean and standard deviation on a *training set* so as to be able to later reapply the same transformation on the *testing set*.\n"
      ]
    },
    {
      "cell_type": "code",
      "metadata": {
        "id": "VGB4UBuS1KmC",
        "colab_type": "code",
        "colab": {}
      },
      "source": [
        "#Apply StandardScaler and store mean & std of X_train\n",
        "scaler = preprocessing.StandardScaler().fit(X_train)"
      ],
      "execution_count": 0,
      "outputs": []
    },
    {
      "cell_type": "code",
      "metadata": {
        "id": "QDWnqlt01Vip",
        "colab_type": "code",
        "outputId": "a941b7d7-ed82-4dbc-e4a7-18d3bb6ab4ee",
        "colab": {
          "base_uri": "https://localhost:8080/",
          "height": 34
        }
      },
      "source": [
        "#Calculate the mean (it is the original mean of X_train)\n",
        "scaler.mean_"
      ],
      "execution_count": 0,
      "outputs": [
        {
          "output_type": "execute_result",
          "data": {
            "text/plain": [
              "array([1.        , 0.        , 0.33333333])"
            ]
          },
          "metadata": {
            "tags": []
          },
          "execution_count": 10
        }
      ]
    },
    {
      "cell_type": "code",
      "metadata": {
        "id": "wMsJKIyl2DsP",
        "colab_type": "code",
        "outputId": "190469fb-eb21-4d5d-dac6-c5d649c2f81b",
        "colab": {
          "base_uri": "https://localhost:8080/",
          "height": 68
        }
      },
      "source": [
        "#Transform X_train to zero mean and unit variance\n",
        "scaler.transform(X_train)"
      ],
      "execution_count": 0,
      "outputs": [
        {
          "output_type": "execute_result",
          "data": {
            "text/plain": [
              "array([[ 0.        , -1.22474487,  1.33630621],\n",
              "       [ 1.22474487,  0.        , -0.26726124],\n",
              "       [-1.22474487,  1.22474487, -1.06904497]])"
            ]
          },
          "metadata": {
            "tags": []
          },
          "execution_count": 11
        }
      ]
    },
    {
      "cell_type": "code",
      "metadata": {
        "id": "cbSO0TuQ3WcB",
        "colab_type": "code",
        "colab": {}
      },
      "source": [
        "#Define test data\n",
        "X_test = [[-1., 1., 0.]]"
      ],
      "execution_count": 0,
      "outputs": []
    },
    {
      "cell_type": "code",
      "metadata": {
        "id": "TiDMEqIb3dsL",
        "colab_type": "code",
        "outputId": "54742991-bdb8-4089-e303-cef004a540b7",
        "colab": {
          "base_uri": "https://localhost:8080/",
          "height": 34
        }
      },
      "source": [
        "#Transform test data in the same way as training data\n",
        "scaler.transform(X_test)"
      ],
      "execution_count": 0,
      "outputs": [
        {
          "output_type": "execute_result",
          "data": {
            "text/plain": [
              "array([[-2.44948974,  1.22474487, -0.26726124]])"
            ]
          },
          "metadata": {
            "tags": []
          },
          "execution_count": 13
        }
      ]
    },
    {
      "cell_type": "markdown",
      "metadata": {
        "id": "lUHWeso-8HwS",
        "colab_type": "text"
      },
      "source": [
        "# Normalization"
      ]
    },
    {
      "cell_type": "code",
      "metadata": {
        "id": "8kv2_KGY8LEE",
        "colab_type": "code",
        "colab": {}
      },
      "source": [
        "#Define data X\n",
        "X = [[ 1., -1.,  2.],\n",
        "     [ 2.,  0.,  0.],\n",
        "     [ 0.,  1., -1.]]"
      ],
      "execution_count": 0,
      "outputs": []
    },
    {
      "cell_type": "code",
      "metadata": {
        "id": "p_t5g8IZ9HnX",
        "colab_type": "code",
        "outputId": "c62da144-dbb5-4710-cad0-2140bfd0dde4",
        "colab": {
          "base_uri": "https://localhost:8080/",
          "height": 34
        }
      },
      "source": [
        "#Calculate the norm of X with L2 (MSE)\n",
        "np.linalg.norm(X,axis=1)"
      ],
      "execution_count": 0,
      "outputs": [
        {
          "output_type": "execute_result",
          "data": {
            "text/plain": [
              "array([2.44948974, 2.        , 1.41421356])"
            ]
          },
          "metadata": {
            "tags": []
          },
          "execution_count": 15
        }
      ]
    },
    {
      "cell_type": "code",
      "metadata": {
        "id": "0TdloEvy9ZnO",
        "colab_type": "code",
        "colab": {}
      },
      "source": [
        "#Normalize X with L2 (MSE)\n",
        "X_normalized = preprocessing.normalize(X)"
      ],
      "execution_count": 0,
      "outputs": []
    },
    {
      "cell_type": "code",
      "metadata": {
        "id": "RF2tS9Xr9hEL",
        "colab_type": "code",
        "outputId": "5b1c1d2d-adfd-4e02-97d3-87ceec4d0d55",
        "colab": {
          "base_uri": "https://localhost:8080/",
          "height": 68
        }
      },
      "source": [
        "#Show normalized X\n",
        "X_normalized"
      ],
      "execution_count": 0,
      "outputs": [
        {
          "output_type": "execute_result",
          "data": {
            "text/plain": [
              "array([[ 0.40824829, -0.40824829,  0.81649658],\n",
              "       [ 1.        ,  0.        ,  0.        ],\n",
              "       [ 0.        ,  0.70710678, -0.70710678]])"
            ]
          },
          "metadata": {
            "tags": []
          },
          "execution_count": 17
        }
      ]
    },
    {
      "cell_type": "code",
      "metadata": {
        "id": "4NCxr0k19s3E",
        "colab_type": "code",
        "outputId": "24f4cc9e-d015-4ba5-d55b-a8be1ffe7778",
        "colab": {
          "base_uri": "https://localhost:8080/",
          "height": 34
        }
      },
      "source": [
        "#Calculate the norm of X_normalized with L2 (MSE)\n",
        "np.linalg.norm(X_normalized,axis=1)"
      ],
      "execution_count": 0,
      "outputs": [
        {
          "output_type": "execute_result",
          "data": {
            "text/plain": [
              "array([1., 1., 1.])"
            ]
          },
          "metadata": {
            "tags": []
          },
          "execution_count": 18
        }
      ]
    }
  ]
}