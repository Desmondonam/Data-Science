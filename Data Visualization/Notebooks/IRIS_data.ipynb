{
  "nbformat": 4,
  "nbformat_minor": 0,
  "metadata": {
    "colab": {
      "name": "IRIS_data.ipynb",
      "version": "0.3.2",
      "provenance": [],
      "collapsed_sections": []
    },
    "kernelspec": {
      "name": "python3",
      "display_name": "Python 3"
    }
  },
  "cells": [
    {
      "cell_type": "markdown",
      "metadata": {
        "id": "BZkCU1-aK1xu",
        "colab_type": "text"
      },
      "source": [
        "# ML model in Scikit-Learn for the IRIS dataset \n",
        "The IRIS dataset consists of 3 different types of irises’ (Setosa, Versicolor, and Virginica) petal and sepal length.\n",
        "The rows being the samples and the columns being: Sepal Length, Sepal Width, Petal Length and Petal Width. The last column is the correct flower class.\n",
        "\n",
        "Data Set Characteristics:\n",
        "*   Number of Instances: 150 (50 in each of three classes)\n",
        "*   Number of Attributes: 4 numeric, predictive attributes and the class\n",
        "*   Attribute Information: sepal length in cm, sepal width in cm,  petal length in cm, petal width in cm\n",
        "*   Class: Iris-Setosa, Iris-Versicolor, Iris-Virginica\n"
      ]
    },
    {
      "cell_type": "code",
      "metadata": {
        "id": "_J2OybQ2NEil",
        "colab_type": "code",
        "colab": {}
      },
      "source": [
        "#Import datasets, train_test_split, model_selection, estimators and accuracy scor\n",
        "from sklearn import datasets\n",
        "from sklearn.model_selection import train_test_split\n",
        "from sklearn import model_selection\n",
        "from sklearn.svm import SVC\n",
        "from sklearn.tree import DecisionTreeClassifier\n",
        "from sklearn.neighbors import KNeighborsClassifier\n",
        "from sklearn.metrics import accuracy_score"
      ],
      "execution_count": 0,
      "outputs": []
    },
    {
      "cell_type": "code",
      "metadata": {
        "id": "79Zn0VP5NVLq",
        "colab_type": "code",
        "colab": {}
      },
      "source": [
        "#Load IRIS dataset and assign X (features) and y (label)\n",
        "iris = datasets.load_iris()\n",
        "X, y = iris.data, iris.target"
      ],
      "execution_count": 0,
      "outputs": []
    },
    {
      "cell_type": "code",
      "metadata": {
        "id": "gq0tbsbwZGHd",
        "colab_type": "code",
        "colab": {}
      },
      "source": [
        "#Split the data into 80% training and 20% testing\n",
        "X_train, X_test, y_train, y_test = train_test_split(X, y, test_size=0.20, random_state=42)"
      ],
      "execution_count": 0,
      "outputs": []
    },
    {
      "cell_type": "code",
      "metadata": {
        "id": "I5XgIeBec3M9",
        "colab_type": "code",
        "colab": {}
      },
      "source": [
        "#List the estimators\n",
        "models = []\n",
        "models.append(('KNN', KNeighborsClassifier()))\n",
        "models.append(('CART', DecisionTreeClassifier()))\n",
        "models.append(('SVM', SVC(gamma='auto')))"
      ],
      "execution_count": 0,
      "outputs": []
    },
    {
      "cell_type": "code",
      "metadata": {
        "id": "DVskIDBjdiqe",
        "colab_type": "code",
        "colab": {}
      },
      "source": [
        "#Evaluation metric\n",
        "\n",
        "scoring = 'accuracy'"
      ],
      "execution_count": 0,
      "outputs": []
    },
    {
      "cell_type": "code",
      "metadata": {
        "id": "rS2DM8jfd4kY",
        "colab_type": "code",
        "outputId": "892eac22-7784-452a-9494-829fc5646a33",
        "colab": {
          "base_uri": "https://localhost:8080/",
          "height": 68
        }
      },
      "source": [
        "#10-fold cross validation; Output accuracy mean and std for each estimator\n",
        "results = []\n",
        "names = []\n",
        "seed = 7\n",
        "for name, model in models:\n",
        " kfold = model_selection.KFold(n_splits=10, random_state=seed)\n",
        " cv_results = model_selection.cross_val_score(model, X_train, y_train, cv=kfold, scoring=scoring)\n",
        " results.append(cv_results)\n",
        " names.append(name)\n",
        " msg = \"%s: %f (%f)\" % (name, cv_results.mean(), cv_results.std())\n",
        " print(msg)"
      ],
      "execution_count": 0,
      "outputs": [
        {
          "output_type": "stream",
          "text": [
            "KNN: 0.950000 (0.055277)\n",
            "CART: 0.941667 (0.053359)\n",
            "SVM: 0.958333 (0.041667)\n"
          ],
          "name": "stdout"
        }
      ]
    },
    {
      "cell_type": "code",
      "metadata": {
        "id": "Zn96HD1qgCJL",
        "colab_type": "code",
        "outputId": "c93de4e9-cf04-4ece-cd3f-e095b7c2aef8",
        "colab": {
          "base_uri": "https://localhost:8080/",
          "height": 34
        }
      },
      "source": [
        "#Train the KNN model and test it on the test dataset\n",
        "knn = KNeighborsClassifier()\n",
        "knn.fit(X_train, y_train)\n",
        "predictions = knn.predict(X_test)\n",
        "print(accuracy_score(y_test, predictions))"
      ],
      "execution_count": 0,
      "outputs": [
        {
          "output_type": "stream",
          "text": [
            "1.0\n"
          ],
          "name": "stdout"
        }
      ]
    },
    {
      "cell_type": "code",
      "metadata": {
        "id": "DN15FaCLBUd5",
        "colab_type": "code",
        "outputId": "1beeafa7-2777-4fc7-9b6c-e4f6a1879ca3",
        "colab": {
          "base_uri": "https://localhost:8080/",
          "height": 34
        }
      },
      "source": [
        "#Train the SVM model and test it on the test dataset\n",
        "svm = SVC(gamma='auto')\n",
        "svm.fit(X_train, y_train)\n",
        "predictions = svm.predict(X_test)\n",
        "print(accuracy_score(y_test, predictions))"
      ],
      "execution_count": 0,
      "outputs": [
        {
          "output_type": "stream",
          "text": [
            "1.0\n"
          ],
          "name": "stdout"
        }
      ]
    }
  ]
}