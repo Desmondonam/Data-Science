{
  "nbformat": 4,
  "nbformat_minor": 0,
  "metadata": {
    "colab": {
      "name": "Scikit_Splitting_data.ipynb",
      "version": "0.3.2",
      "provenance": []
    },
    "kernelspec": {
      "name": "python3",
      "display_name": "Python 3"
    }
  },
  "cells": [
    {
      "cell_type": "markdown",
      "metadata": {
        "id": "oIaDFeCnI3mU",
        "colab_type": "text"
      },
      "source": [
        "# Splitting data into training and test subsets"
      ]
    },
    {
      "cell_type": "code",
      "metadata": {
        "id": "mVEpkmqXJBfr",
        "colab_type": "code",
        "colab": {}
      },
      "source": [
        "#Import functions\n",
        "import numpy as np\n",
        "from sklearn.model_selection import train_test_split"
      ],
      "execution_count": 0,
      "outputs": []
    },
    {
      "cell_type": "code",
      "metadata": {
        "id": "r-kbJmFwJPkk",
        "colab_type": "code",
        "colab": {}
      },
      "source": [
        "#Define data structure for X (features) and y (lables)\n",
        "X, y = np.arange(10).reshape((5, 2)), range(5)"
      ],
      "execution_count": 0,
      "outputs": []
    },
    {
      "cell_type": "code",
      "metadata": {
        "id": "ywhOeguGJsTa",
        "colab_type": "code",
        "outputId": "92b49c6b-37a0-453c-abd5-6efdaf0caaa5",
        "colab": {
          "base_uri": "https://localhost:8080/",
          "height": 102
        }
      },
      "source": [
        "#Show X\n",
        "X"
      ],
      "execution_count": 0,
      "outputs": [
        {
          "output_type": "execute_result",
          "data": {
            "text/plain": [
              "array([[0, 1],\n",
              "       [2, 3],\n",
              "       [4, 5],\n",
              "       [6, 7],\n",
              "       [8, 9]])"
            ]
          },
          "metadata": {
            "tags": []
          },
          "execution_count": 4
        }
      ]
    },
    {
      "cell_type": "code",
      "metadata": {
        "id": "cO0HseIKJ1Ui",
        "colab_type": "code",
        "outputId": "eb1b3ca3-f6f7-4b99-f13e-41ff1d9dbb92",
        "colab": {
          "base_uri": "https://localhost:8080/",
          "height": 34
        }
      },
      "source": [
        "#Show y\n",
        "list(y)"
      ],
      "execution_count": 0,
      "outputs": [
        {
          "output_type": "execute_result",
          "data": {
            "text/plain": [
              "[0, 1, 2, 3, 4]"
            ]
          },
          "metadata": {
            "tags": []
          },
          "execution_count": 5
        }
      ]
    },
    {
      "cell_type": "code",
      "metadata": {
        "id": "wc4UwvSrJ8TU",
        "colab_type": "code",
        "colab": {}
      },
      "source": [
        "#Split data into training and test subsets: train =2/3; test =1/3; randomized\n",
        "X_train, X_test, y_train, y_test = train_test_split(X, y, test_size=0.33, random_state=42)"
      ],
      "execution_count": 0,
      "outputs": []
    },
    {
      "cell_type": "code",
      "metadata": {
        "id": "-_N7EHnXKVc8",
        "colab_type": "code",
        "outputId": "48e87dcb-ef36-4724-8aa5-f71a89b653a0",
        "colab": {
          "base_uri": "https://localhost:8080/",
          "height": 68
        }
      },
      "source": [
        "#Show training data X_train (features)\n",
        "X_train"
      ],
      "execution_count": 0,
      "outputs": [
        {
          "output_type": "execute_result",
          "data": {
            "text/plain": [
              "array([[4, 5],\n",
              "       [0, 1],\n",
              "       [6, 7]])"
            ]
          },
          "metadata": {
            "tags": []
          },
          "execution_count": 7
        }
      ]
    },
    {
      "cell_type": "code",
      "metadata": {
        "id": "4OuFRqW5KqmA",
        "colab_type": "code",
        "outputId": "4ff2e556-c564-4704-fdf1-eac6f3498629",
        "colab": {
          "base_uri": "https://localhost:8080/",
          "height": 34
        }
      },
      "source": [
        "#Show training data y_train (labels)\n",
        "y_train"
      ],
      "execution_count": 0,
      "outputs": [
        {
          "output_type": "execute_result",
          "data": {
            "text/plain": [
              "[2, 0, 3]"
            ]
          },
          "metadata": {
            "tags": []
          },
          "execution_count": 8
        }
      ]
    },
    {
      "cell_type": "code",
      "metadata": {
        "id": "hWiFoYqeLJXD",
        "colab_type": "code",
        "outputId": "3fea6788-cd19-4eab-ddd8-d53831322694",
        "colab": {
          "base_uri": "https://localhost:8080/",
          "height": 51
        }
      },
      "source": [
        "#Show X_train (features)\n",
        "X_test"
      ],
      "execution_count": 0,
      "outputs": [
        {
          "output_type": "execute_result",
          "data": {
            "text/plain": [
              "array([[2, 3],\n",
              "       [8, 9]])"
            ]
          },
          "metadata": {
            "tags": []
          },
          "execution_count": 9
        }
      ]
    },
    {
      "cell_type": "code",
      "metadata": {
        "id": "JX4NF0byLPZs",
        "colab_type": "code",
        "outputId": "11a35387-1000-4436-ceec-6790f248c999",
        "colab": {
          "base_uri": "https://localhost:8080/",
          "height": 34
        }
      },
      "source": [
        "#Show y_test (labels)\n",
        "y_test"
      ],
      "execution_count": 0,
      "outputs": [
        {
          "output_type": "execute_result",
          "data": {
            "text/plain": [
              "[1, 4]"
            ]
          },
          "metadata": {
            "tags": []
          },
          "execution_count": 10
        }
      ]
    },
    {
      "cell_type": "code",
      "metadata": {
        "id": "m2sK16tAL0KO",
        "colab_type": "code",
        "outputId": "1a5cb47b-8c25-4d4a-a60b-814839afc2a7",
        "colab": {
          "base_uri": "https://localhost:8080/",
          "height": 34
        }
      },
      "source": [
        "#Split y data (lable) into training and test subsets: default; not shuffled\n",
        "train_test_split(y, shuffle=False)"
      ],
      "execution_count": 0,
      "outputs": [
        {
          "output_type": "execute_result",
          "data": {
            "text/plain": [
              "[[0, 1, 2], [3, 4]]"
            ]
          },
          "metadata": {
            "tags": []
          },
          "execution_count": 11
        }
      ]
    },
    {
      "cell_type": "markdown",
      "metadata": {
        "id": "TvyDXloANtAG",
        "colab_type": "text"
      },
      "source": [
        "**General approach**\n",
        "Split the data into 80% training and 20% testing.\n",
        "Set the random_state to a value of your choice. This ensures results are consistent."
      ]
    },
    {
      "cell_type": "code",
      "metadata": {
        "id": "CfuikkMBOLHb",
        "colab_type": "code",
        "colab": {}
      },
      "source": [
        "X_train, X_test, y_train, y_test = train_test_split(X, y, test_size=0.20, random_state=42)"
      ],
      "execution_count": 0,
      "outputs": []
    },
    {
      "cell_type": "markdown",
      "metadata": {
        "id": "IjC49si9YojE",
        "colab_type": "text"
      },
      "source": [
        "# Cross-validation"
      ]
    },
    {
      "cell_type": "markdown",
      "metadata": {
        "id": "kf3oS2eNZ9VN",
        "colab_type": "text"
      },
      "source": [
        "A separate validation dataset is not needed. In **k-fold cross-validation** the training set is split into k smaller sets. For each of the k “folds”:\n",
        "\n",
        "*   A model is trained using *k-1* of the folds as training data;\n",
        "*   the resulting model is validated on the remaining part of the data."
      ]
    },
    {
      "cell_type": "code",
      "metadata": {
        "id": "DfB5MZKjTtzE",
        "colab_type": "code",
        "colab": {}
      },
      "source": [
        "#Import functions\n",
        "import numpy as np\n",
        "from sklearn.model_selection import KFold"
      ],
      "execution_count": 0,
      "outputs": []
    },
    {
      "cell_type": "code",
      "metadata": {
        "id": "JF4YeAwRT14D",
        "colab_type": "code",
        "colab": {}
      },
      "source": [
        "#Define data X and y\n",
        "X = np.array([[1, 2], [3, 4], [1, 2], [3, 4]])\n",
        "y = np.array([1, 2, 3, 4])"
      ],
      "execution_count": 0,
      "outputs": []
    },
    {
      "cell_type": "code",
      "metadata": {
        "id": "qaSOYax9UIAu",
        "colab_type": "code",
        "colab": {}
      },
      "source": [
        "#2-Fold split\n",
        "kf = KFold(n_splits=2)"
      ],
      "execution_count": 0,
      "outputs": []
    },
    {
      "cell_type": "code",
      "metadata": {
        "id": "yhK3OL7-Uy3b",
        "colab_type": "code",
        "outputId": "fe269e48-bd8d-4321-d3c1-bacc0140ea03",
        "colab": {
          "base_uri": "https://localhost:8080/",
          "height": 51
        }
      },
      "source": [
        "#Function \"split\" provides the indices\n",
        "for train_index, test_index in kf.split(X):\n",
        "  print(\"TRAIN:\", train_index, \"TEST:\", test_index)\n",
        "  X_train, X_test = X[train_index], X[test_index]\n",
        "  y_train, y_test = y[train_index], y[test_index]"
      ],
      "execution_count": 0,
      "outputs": [
        {
          "output_type": "stream",
          "text": [
            "TRAIN: [2 3] TEST: [0 1]\n",
            "TRAIN: [0 1] TEST: [2 3]\n"
          ],
          "name": "stdout"
        }
      ]
    },
    {
      "cell_type": "code",
      "metadata": {
        "id": "EcCDYgl5XsBf",
        "colab_type": "code",
        "outputId": "154a1c94-e8a9-4a7f-f157-2d03cecadd3c",
        "colab": {
          "base_uri": "https://localhost:8080/",
          "height": 34
        }
      },
      "source": [
        "#Print the k-fold function; default is not shuffled (parameter)\n",
        "print(kf)"
      ],
      "execution_count": 0,
      "outputs": [
        {
          "output_type": "stream",
          "text": [
            "KFold(n_splits=2, random_state=None, shuffle=False)\n"
          ],
          "name": "stdout"
        }
      ]
    },
    {
      "cell_type": "markdown",
      "metadata": {
        "id": "KA3SSb8kYTA8",
        "colab_type": "text"
      },
      "source": [
        "**ShuffleSplit** yields indices to split data into training and test sets. It is a random permutation cross-validator,"
      ]
    },
    {
      "cell_type": "code",
      "metadata": {
        "id": "vvGeukKUY7QM",
        "colab_type": "code",
        "colab": {}
      },
      "source": [
        "#Import function\n",
        "from sklearn.model_selection import ShuffleSplit"
      ],
      "execution_count": 0,
      "outputs": []
    },
    {
      "cell_type": "code",
      "metadata": {
        "id": "6wHca9PvZIhh",
        "colab_type": "code",
        "colab": {}
      },
      "source": [
        "#Define data X and y\n",
        "X = np.array([[1, 2], [3, 4], [5, 6], [7, 8], [3, 4], [5, 6]])\n",
        "y = np.array([1, 2, 1, 2, 1, 2])"
      ],
      "execution_count": 0,
      "outputs": []
    },
    {
      "cell_type": "code",
      "metadata": {
        "id": "RRGP7PV7ZRif",
        "colab_type": "code",
        "colab": {}
      },
      "source": [
        "#Perform ShuffleSplit with 5 splits, test data size 25%\n",
        "rs = ShuffleSplit(n_splits=5, test_size=.25, random_state=0)"
      ],
      "execution_count": 0,
      "outputs": []
    },
    {
      "cell_type": "code",
      "metadata": {
        "id": "DxADrURrZ3ez",
        "colab_type": "code",
        "outputId": "72b2a132-fd67-4b26-fc41-3ebd93cd2025",
        "colab": {
          "base_uri": "https://localhost:8080/",
          "height": 102
        }
      },
      "source": [
        "#Function \"split\" provides the indices\n",
        "for train_index, test_index in rs.split(X):\n",
        "  print(\"TRAIN:\", train_index, \"TEST:\", test_index)"
      ],
      "execution_count": 0,
      "outputs": [
        {
          "output_type": "stream",
          "text": [
            "TRAIN: [1 3 0 4] TEST: [5 2]\n",
            "TRAIN: [4 0 2 5] TEST: [1 3]\n",
            "TRAIN: [1 2 4 0] TEST: [3 5]\n",
            "TRAIN: [3 4 1 0] TEST: [5 2]\n",
            "TRAIN: [3 5 1 0] TEST: [2 4]\n"
          ],
          "name": "stdout"
        }
      ]
    },
    {
      "cell_type": "code",
      "metadata": {
        "id": "vQgELvZ0amBG",
        "colab_type": "code",
        "outputId": "d2a26fd7-d170-45e9-c2e6-90671a5ddcfe",
        "colab": {
          "base_uri": "https://localhost:8080/",
          "height": 102
        }
      },
      "source": [
        "#Perform ShuffleSplit with 5 splits, test data size 25% and train data size 50%\n",
        "rs = ShuffleSplit(n_splits=5, train_size=0.5, test_size=.25,random_state=0)\n",
        "for train_index, test_index in rs.split(X):\n",
        "  print(\"TRAIN:\", train_index, \"TEST:\", test_index)"
      ],
      "execution_count": 0,
      "outputs": [
        {
          "output_type": "stream",
          "text": [
            "TRAIN: [1 3 0] TEST: [5 2]\n",
            "TRAIN: [4 0 2] TEST: [1 3]\n",
            "TRAIN: [1 2 4] TEST: [3 5]\n",
            "TRAIN: [3 4 1] TEST: [5 2]\n",
            "TRAIN: [3 5 1] TEST: [2 4]\n"
          ],
          "name": "stdout"
        }
      ]
    }
  ]
}