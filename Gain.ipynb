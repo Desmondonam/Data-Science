{
 "cells": [
  {
   "cell_type": "code",
   "execution_count": 1,
   "id": "3abb2539",
   "metadata": {},
   "outputs": [],
   "source": [
    "import warnings\n",
    "warnings.filterwarnings(\"ignore\")\n",
    "\n",
    "import pandas as pd\n",
    "import numpy as np"
   ]
  },
  {
   "cell_type": "code",
   "execution_count": 3,
   "id": "8c0fb684",
   "metadata": {},
   "outputs": [
    {
     "name": "stdout",
     "output_type": "stream",
     "text": [
      "0     apple\n",
      "1     apple\n",
      "2     apple\n",
      "3    orange\n",
      "4    orange\n",
      "5    banana\n",
      "6    banana\n",
      "dtype: object\n"
     ]
    }
   ],
   "source": [
    "lst = ['apple']*3 + ['orange']*2 + ['banana']*2\n",
    "fruits = pd.Series(lst)\n",
    "print(fruits)"
   ]
  },
  {
   "cell_type": "code",
   "execution_count": 2,
   "id": "e67e4806",
   "metadata": {},
   "outputs": [
    {
     "name": "stdout",
     "output_type": "stream",
     "text": [
      "     Age  Gender Polyuria Polydipsia sudden weight loss weakness Polyphagia  \\\n",
      "0     40    Male       No        Yes                 No      Yes         No   \n",
      "1     58    Male       No         No                 No      Yes         No   \n",
      "2     41    Male      Yes         No                 No      Yes        Yes   \n",
      "3     45    Male       No         No                Yes      Yes        Yes   \n",
      "4     60    Male      Yes        Yes                Yes      Yes        Yes   \n",
      "..   ...     ...      ...        ...                ...      ...        ...   \n",
      "515   39  Female      Yes        Yes                Yes       No        Yes   \n",
      "516   48  Female      Yes        Yes                Yes      Yes        Yes   \n",
      "517   58  Female      Yes        Yes                Yes      Yes        Yes   \n",
      "518   32  Female       No         No                 No      Yes         No   \n",
      "519   42    Male       No         No                 No       No         No   \n",
      "\n",
      "    Genital thrush visual blurring Itching Irritability delayed healing  \\\n",
      "0               No              No     Yes           No             Yes   \n",
      "1               No             Yes      No           No              No   \n",
      "2               No              No     Yes           No             Yes   \n",
      "3              Yes              No     Yes           No             Yes   \n",
      "4               No             Yes     Yes          Yes             Yes   \n",
      "..             ...             ...     ...          ...             ...   \n",
      "515             No              No     Yes           No             Yes   \n",
      "516             No              No     Yes          Yes             Yes   \n",
      "517             No             Yes      No           No              No   \n",
      "518             No             Yes     Yes           No             Yes   \n",
      "519             No              No      No           No              No   \n",
      "\n",
      "    partial paresis muscle stiffness Alopecia Obesity     class  \n",
      "0                No              Yes      Yes     Yes  Positive  \n",
      "1               Yes               No      Yes      No  Positive  \n",
      "2                No              Yes      Yes      No  Positive  \n",
      "3                No               No       No      No  Positive  \n",
      "4               Yes              Yes      Yes     Yes  Positive  \n",
      "..              ...              ...      ...     ...       ...  \n",
      "515             Yes               No       No      No  Positive  \n",
      "516             Yes               No       No      No  Positive  \n",
      "517             Yes              Yes       No     Yes  Positive  \n",
      "518              No               No      Yes      No  Negative  \n",
      "519              No               No       No      No  Negative  \n",
      "\n",
      "[520 rows x 17 columns]\n"
     ]
    }
   ],
   "source": [
    "data = pd.read_excel (r'D:/Grace/data.xlsx')\n",
    "print (data)"
   ]
  },
  {
   "cell_type": "code",
   "execution_count": 4,
   "id": "fdc75254",
   "metadata": {},
   "outputs": [
    {
     "data": {
      "text/plain": [
       "apple     0.428571\n",
       "orange    0.285714\n",
       "banana    0.285714\n",
       "dtype: float64"
      ]
     },
     "execution_count": 4,
     "metadata": {},
     "output_type": "execute_result"
    }
   ],
   "source": [
    "probs = fruits.value_counts(normalize=True)\n",
    "probs"
   ]
  },
  {
   "cell_type": "code",
   "execution_count": 5,
   "id": "0ab91c04",
   "metadata": {},
   "outputs": [
    {
     "name": "stdout",
     "output_type": "stream",
     "text": [
      "[0.42857142857142855, 0.2857142857142857, 0.2857142857142857]\n"
     ]
    }
   ],
   "source": [
    "probs_by_hand = [3/7, 2/7, 2/7]\n",
    "print(probs_by_hand)"
   ]
  },
  {
   "cell_type": "markdown",
   "id": "a94575c4",
   "metadata": {},
   "source": [
    "Recall that Shannon's model defines entropy as\n",
    "H(x):=−∑i=1ℓ(P(t=i)×log2(P(t=i))\n",
    " \n",
    "The idea with entropy is that the more heterogenous and impure a feature is, the higher the entropy. Conversely, the more homogenous and pure a feature is, the lower the entropy.\n",
    "\n",
    "The following calculation shows how impurity of this fruit basket can be computed using the entropy criterion."
   ]
  },
  {
   "cell_type": "code",
   "execution_count": 6,
   "id": "6c06a63f",
   "metadata": {},
   "outputs": [
    {
     "data": {
      "text/plain": [
       "1.5566567074628228"
      ]
     },
     "execution_count": 6,
     "metadata": {},
     "output_type": "execute_result"
    }
   ],
   "source": [
    "entropy = -1 * np.sum(np.log2(probs) * probs)\n",
    "entropy"
   ]
  },
  {
   "cell_type": "markdown",
   "id": "efffe510",
   "metadata": {},
   "source": [
    "The gini impurity index is defined as follows:\n",
    "Gini(x):=1−∑i=1ℓP(t=i)2\n",
    " \n",
    "The idea with Gini index is the same as in entropy in the sense that the more heterogenous and impure a feature is, the higher the Gini index.\n",
    "\n",
    "A nice property of the Gini index is that it is always between 0 and 1, and this may make it easier to compare Gini indices across different features.\n",
    "\n",
    "The impurity of our fruit basket using Gini index is calculated as below."
   ]
  },
  {
   "cell_type": "code",
   "execution_count": 7,
   "id": "286519bd",
   "metadata": {},
   "outputs": [
    {
     "data": {
      "text/plain": [
       "0.653061224489796"
      ]
     },
     "execution_count": 7,
     "metadata": {},
     "output_type": "execute_result"
    }
   ],
   "source": [
    "gini_index = 1 - np.sum(np.square(probs))\n",
    "gini_index"
   ]
  },
  {
   "cell_type": "code",
   "execution_count": 8,
   "id": "324b3418",
   "metadata": {},
   "outputs": [
    {
     "name": "stdout",
     "output_type": "stream",
     "text": [
      "0         apple\n",
      "1        orange\n",
      "2        banana\n",
      "3         mango\n",
      "4     blueberry\n",
      "5    watermelon\n",
      "6          pear\n",
      "dtype: object\n"
     ]
    },
    {
     "data": {
      "text/plain": [
       "apple         0.142857\n",
       "watermelon    0.142857\n",
       "blueberry     0.142857\n",
       "orange        0.142857\n",
       "pear          0.142857\n",
       "banana        0.142857\n",
       "mango         0.142857\n",
       "dtype: float64"
      ]
     },
     "execution_count": 8,
     "metadata": {},
     "output_type": "execute_result"
    }
   ],
   "source": [
    "lst2 = ['apple', 'orange', 'banana', 'mango', 'blueberry', 'watermelon', 'pear']\n",
    "fruits2 = pd.Series(lst2)\n",
    "print(fruits2)\n",
    "probs2 = fruits2.value_counts(normalize=True)\n",
    "probs2"
   ]
  },
  {
   "cell_type": "code",
   "execution_count": 9,
   "id": "1c6a605a",
   "metadata": {},
   "outputs": [
    {
     "data": {
      "text/plain": [
       "2.807354922057604"
      ]
     },
     "execution_count": 9,
     "metadata": {},
     "output_type": "execute_result"
    }
   ],
   "source": [
    "entropy = -1 * np.sum(np.log2(probs2) * probs2)\n",
    "entropy"
   ]
  },
  {
   "cell_type": "code",
   "execution_count": 10,
   "id": "d6e04095",
   "metadata": {},
   "outputs": [
    {
     "data": {
      "text/plain": [
       "0.8571428571428572"
      ]
     },
     "execution_count": 10,
     "metadata": {},
     "output_type": "execute_result"
    }
   ],
   "source": [
    "gini_index = 1 - np.sum(np.square(probs2))\n",
    "gini_index"
   ]
  },
  {
   "cell_type": "markdown",
   "id": "c109053e",
   "metadata": {},
   "source": [
    "As expected, both entropy and Gini index of the second fruit basket is higher than those of the first fruit basket."
   ]
  },
  {
   "cell_type": "code",
   "execution_count": 11,
   "id": "03937e34",
   "metadata": {},
   "outputs": [
    {
     "name": "stdout",
     "output_type": "stream",
     "text": [
      "     Age  Gender Polyuria Polydipsia sudden weight loss weakness Polyphagia  \\\n",
      "0     40    Male       No        Yes                 No      Yes         No   \n",
      "1     58    Male       No         No                 No      Yes         No   \n",
      "2     41    Male      Yes         No                 No      Yes        Yes   \n",
      "3     45    Male       No         No                Yes      Yes        Yes   \n",
      "4     60    Male      Yes        Yes                Yes      Yes        Yes   \n",
      "..   ...     ...      ...        ...                ...      ...        ...   \n",
      "515   39  Female      Yes        Yes                Yes       No        Yes   \n",
      "516   48  Female      Yes        Yes                Yes      Yes        Yes   \n",
      "517   58  Female      Yes        Yes                Yes      Yes        Yes   \n",
      "518   32  Female       No         No                 No      Yes         No   \n",
      "519   42    Male       No         No                 No       No         No   \n",
      "\n",
      "    Genital thrush visual blurring Itching Irritability delayed healing  \\\n",
      "0               No              No     Yes           No             Yes   \n",
      "1               No             Yes      No           No              No   \n",
      "2               No              No     Yes           No             Yes   \n",
      "3              Yes              No     Yes           No             Yes   \n",
      "4               No             Yes     Yes          Yes             Yes   \n",
      "..             ...             ...     ...          ...             ...   \n",
      "515             No              No     Yes           No             Yes   \n",
      "516             No              No     Yes          Yes             Yes   \n",
      "517             No             Yes      No           No              No   \n",
      "518             No             Yes     Yes           No             Yes   \n",
      "519             No              No      No           No              No   \n",
      "\n",
      "    partial paresis muscle stiffness Alopecia Obesity     class  \n",
      "0                No              Yes      Yes     Yes  Positive  \n",
      "1               Yes               No      Yes      No  Positive  \n",
      "2                No              Yes      Yes      No  Positive  \n",
      "3                No               No       No      No  Positive  \n",
      "4               Yes              Yes      Yes     Yes  Positive  \n",
      "..              ...              ...      ...     ...       ...  \n",
      "515             Yes               No       No      No  Positive  \n",
      "516             Yes               No       No      No  Positive  \n",
      "517             Yes              Yes       No     Yes  Positive  \n",
      "518              No               No      Yes      No  Negative  \n",
      "519              No               No       No      No  Negative  \n",
      "\n",
      "[520 rows x 17 columns]\n"
     ]
    }
   ],
   "source": [
    "import pandas as pd\n",
    "import io\n",
    "import requests\n",
    "\n",
    "data = pd.read_excel (r'D:/Grace/data.xlsx')\n",
    "print (data)\n"
   ]
  },
  {
   "cell_type": "code",
   "execution_count": 14,
   "id": "30b6d0ad",
   "metadata": {},
   "outputs": [],
   "source": [
    "df = data"
   ]
  },
  {
   "cell_type": "code",
   "execution_count": null,
   "id": "229dc0e0",
   "metadata": {},
   "outputs": [],
   "source": []
  },
  {
   "cell_type": "code",
   "execution_count": 12,
   "id": "3d4f6ca3",
   "metadata": {},
   "outputs": [
    {
     "name": "stdout",
     "output_type": "stream",
     "text": [
      "impurity using entropy: 1.557\n",
      "impurity using gini index: 0.653\n"
     ]
    }
   ],
   "source": [
    "def compute_impurity(feature, impurity_criterion):\n",
    "    \"\"\"\n",
    "    This function calculates impurity of a feature.\n",
    "    Supported impurity criteria: 'entropy', 'gini'\n",
    "    input: feature (this needs to be a Pandas series)\n",
    "    output: feature impurity\n",
    "    \"\"\"\n",
    "    probs = feature.value_counts(normalize=True)\n",
    "    \n",
    "    if impurity_criterion == 'entropy':\n",
    "        impurity = -1 * np.sum(np.log2(probs) * probs)\n",
    "    elif impurity_criterion == 'gini':\n",
    "        impurity = 1 - np.sum(np.square(probs))\n",
    "    else:\n",
    "        raise ValueError('Unknown impurity criterion')\n",
    "        \n",
    "    return(round(impurity, 3))\n",
    "\n",
    "\n",
    "# let's do two quick examples.\n",
    "print('impurity using entropy:', compute_impurity(fruits, 'entropy'))\n",
    "print('impurity using gini index:', compute_impurity(fruits, 'gini'))\n",
    "# how to test for an incorrect compute_impurity_criterion value:\n",
    "# print('impurity using gini index:', compute_impurity(df['stream'], 'foo'))"
   ]
  },
  {
   "cell_type": "code",
   "execution_count": 16,
   "id": "4c9bb7e3",
   "metadata": {},
   "outputs": [
    {
     "data": {
      "text/plain": [
       "0.978"
      ]
     },
     "execution_count": 16,
     "metadata": {},
     "output_type": "execute_result"
    }
   ],
   "source": [
    "target_entropy = compute_impurity(df['weakness'], 'entropy')\n",
    "target_entropy"
   ]
  },
  {
   "cell_type": "code",
   "execution_count": 17,
   "id": "243755dd",
   "metadata": {},
   "outputs": [
    {
     "data": {
      "text/plain": [
       "Yes    305\n",
       "No     215\n",
       "Name: weakness, dtype: int64"
      ]
     },
     "execution_count": 17,
     "metadata": {},
     "output_type": "execute_result"
    }
   ],
   "source": [
    "df['weakness'].value_counts()"
   ]
  },
  {
   "cell_type": "code",
   "execution_count": 18,
   "id": "bb32ef33",
   "metadata": {},
   "outputs": [
    {
     "name": "stdout",
     "output_type": "stream",
     "text": [
      "level name: Yes\n",
      "corresponding data partition:\n",
      "     Age  Gender Polyuria Polydipsia sudden weight loss weakness Polyphagia  \\\n",
      "0     40    Male       No        Yes                 No      Yes         No   \n",
      "1     58    Male       No         No                 No      Yes         No   \n",
      "2     41    Male      Yes         No                 No      Yes        Yes   \n",
      "3     45    Male       No         No                Yes      Yes        Yes   \n",
      "4     60    Male      Yes        Yes                Yes      Yes        Yes   \n",
      "..   ...     ...      ...        ...                ...      ...        ...   \n",
      "513   62  Female      Yes        Yes                Yes      Yes         No   \n",
      "514   54  Female      Yes        Yes                Yes      Yes        Yes   \n",
      "516   48  Female      Yes        Yes                Yes      Yes        Yes   \n",
      "517   58  Female      Yes        Yes                Yes      Yes        Yes   \n",
      "518   32  Female       No         No                 No      Yes         No   \n",
      "\n",
      "    Genital thrush visual blurring Itching Irritability delayed healing  \\\n",
      "0               No              No     Yes           No             Yes   \n",
      "1               No             Yes      No           No              No   \n",
      "2               No              No     Yes           No             Yes   \n",
      "3              Yes              No     Yes           No             Yes   \n",
      "4               No             Yes     Yes          Yes             Yes   \n",
      "..             ...             ...     ...          ...             ...   \n",
      "513             No             Yes      No           No              No   \n",
      "514             No              No      No           No              No   \n",
      "516             No              No     Yes          Yes             Yes   \n",
      "517             No             Yes      No           No              No   \n",
      "518             No             Yes     Yes           No             Yes   \n",
      "\n",
      "    partial paresis muscle stiffness Alopecia Obesity     class  \n",
      "0                No              Yes      Yes     Yes  Positive  \n",
      "1               Yes               No      Yes      No  Positive  \n",
      "2                No              Yes      Yes      No  Positive  \n",
      "3                No               No       No      No  Positive  \n",
      "4               Yes              Yes      Yes     Yes  Positive  \n",
      "..              ...              ...      ...     ...       ...  \n",
      "513             Yes               No       No     Yes  Positive  \n",
      "514             Yes               No       No      No  Positive  \n",
      "516             Yes               No       No      No  Positive  \n",
      "517             Yes              Yes       No     Yes  Positive  \n",
      "518              No               No      Yes      No  Negative  \n",
      "\n",
      "[305 rows x 17 columns]\n",
      "partition target feature impurity: 0.997\n",
      "partition weight: 305/520\n",
      "====================\n",
      "level name: No\n",
      "corresponding data partition:\n",
      "     Age  Gender Polyuria Polydipsia sudden weight loss weakness Polyphagia  \\\n",
      "11    38    Male      Yes        Yes                 No       No        Yes   \n",
      "12    35    Male      Yes         No                 No       No        Yes   \n",
      "22    39    Male      Yes         No                Yes       No         No   \n",
      "25    32    Male       No         No                 No       No         No   \n",
      "28    38    Male       No        Yes                 No       No         No   \n",
      "..   ...     ...      ...        ...                ...      ...        ...   \n",
      "507   60    Male       No         No                Yes       No         No   \n",
      "509   54    Male       No         No                 No       No         No   \n",
      "512   43    Male       No         No                 No       No         No   \n",
      "515   39  Female      Yes        Yes                Yes       No        Yes   \n",
      "519   42    Male       No         No                 No       No         No   \n",
      "\n",
      "    Genital thrush visual blurring Itching Irritability delayed healing  \\\n",
      "11             Yes              No     Yes           No             Yes   \n",
      "12             Yes              No      No          Yes             Yes   \n",
      "22             Yes              No     Yes          Yes              No   \n",
      "25             Yes              No      No          Yes             Yes   \n",
      "28             Yes              No      No           No              No   \n",
      "..             ...             ...     ...          ...             ...   \n",
      "507             No              No      No           No              No   \n",
      "509             No              No      No           No              No   \n",
      "512             No              No      No           No              No   \n",
      "515             No              No     Yes           No             Yes   \n",
      "519             No              No      No           No              No   \n",
      "\n",
      "    partial paresis muscle stiffness Alopecia Obesity     class  \n",
      "11               No              Yes       No      No  Positive  \n",
      "12               No               No      Yes      No  Positive  \n",
      "22               No               No      Yes      No  Positive  \n",
      "25               No               No       No     Yes  Positive  \n",
      "28               No               No      Yes      No  Positive  \n",
      "..              ...              ...      ...     ...       ...  \n",
      "507              No               No       No     Yes  Negative  \n",
      "509              No               No       No      No  Negative  \n",
      "512              No               No      Yes      No  Negative  \n",
      "515             Yes               No       No      No  Positive  \n",
      "519              No               No       No      No  Negative  \n",
      "\n",
      "[215 rows x 17 columns]\n",
      "partition target feature impurity: 0.933\n",
      "partition weight: 215/520\n",
      "====================\n"
     ]
    }
   ],
   "source": [
    "for level in df['weakness'].unique():\n",
    "    print('level name:', level)\n",
    "    df_feature_level = df[df['weakness'] == level]\n",
    "    print('corresponding data partition:')\n",
    "    print(df_feature_level)\n",
    "    print('partition target feature impurity:', compute_impurity(df_feature_level['c'], 'entropy'))\n",
    "    print('partition weight:', str(len(df_feature_level)) + '/' + str(len(df)))\n",
    "    print('====================')"
   ]
  },
  {
   "cell_type": "code",
   "execution_count": 19,
   "id": "a5ff94ea",
   "metadata": {},
   "outputs": [],
   "source": [
    "def comp_feature_information_gain(df, target, descriptive_feature, split_criterion):\n",
    "    \"\"\"\n",
    "    This function calculates information gain for splitting on \n",
    "    a particular descriptive feature for a given dataset\n",
    "    and a given impurity criteria.\n",
    "    Supported split criterion: 'entropy', 'gini'\n",
    "    \"\"\"\n",
    "    \n",
    "    print('target feature:', target)\n",
    "    print('descriptive_feature:', descriptive_feature)\n",
    "    print('split criterion:', split_criterion)\n",
    "            \n",
    "    target_entropy = compute_impurity(df[target], split_criterion)\n",
    "\n",
    "    # we define two lists below:\n",
    "    # entropy_list to store the entropy of each partition\n",
    "    # weight_list to store the relative number of observations in each partition\n",
    "    entropy_list = list()\n",
    "    weight_list = list()\n",
    "    \n",
    "    # loop over each level of the descriptive feature\n",
    "    # to partition the dataset with respect to that level\n",
    "    # and compute the entropy and the weight of the level's partition\n",
    "    for level in df[descriptive_feature].unique():\n",
    "        df_feature_level = df[df[descriptive_feature] == level]\n",
    "        entropy_level = compute_impurity(df_feature_level[target], split_criterion)\n",
    "        entropy_list.append(round(entropy_level, 3))\n",
    "        weight_level = len(df_feature_level) / len(df)\n",
    "        weight_list.append(round(weight_level, 3))\n",
    "\n",
    "    print('impurity of partitions:', entropy_list)\n",
    "    print('weights of partitions:', weight_list)\n",
    "\n",
    "    feature_remaining_impurity = np.sum(np.array(entropy_list) * np.array(weight_list))\n",
    "    print('remaining impurity:', feature_remaining_impurity)\n",
    "    \n",
    "    information_gain = target_entropy - feature_remaining_impurity\n",
    "    print('information gain:', information_gain)\n",
    "    \n",
    "    print('====================')\n",
    "\n",
    "    return(information_gain)"
   ]
  },
  {
   "cell_type": "code",
   "execution_count": 20,
   "id": "bfa63f4b",
   "metadata": {},
   "outputs": [
    {
     "name": "stdout",
     "output_type": "stream",
     "text": [
      "target feature: Polyphagia\n",
      "descriptive_feature: Age\n",
      "split criterion: entropy\n",
      "impurity of partitions: [0.544, 0.852, -0.0, 0.764, 0.997, 0.994, 0.353, 0.991, 0.544, 0.722, -0.0, 0.934, 0.918, 0.544, 0.696, 0.904, 0.985, 0.896, 0.94, 0.722, 0.764, -0.0, 0.934, -0.0, -0.0, -0.0, 0.634, 0.918, -0.0, 0.811, -0.0, -0.0, 0.65, -0.0, 0.918, 0.503, -0.0, 1.0, -0.0, -0.0, -0.0, -0.0, 0.971, -0.0, -0.0, -0.0, -0.0, 0.722, -0.0, -0.0, -0.0]\n",
      "weights of partitions: [0.046, 0.035, 0.008, 0.035, 0.029, 0.042, 0.029, 0.017, 0.015, 0.01, 0.013, 0.038, 0.058, 0.015, 0.031, 0.048, 0.013, 0.031, 0.054, 0.01, 0.017, 0.008, 0.038, 0.013, 0.013, 0.006, 0.048, 0.035, 0.015, 0.015, 0.01, 0.008, 0.012, 0.004, 0.04, 0.017, 0.019, 0.015, 0.006, 0.004, 0.004, 0.017, 0.01, 0.002, 0.012, 0.002, 0.008, 0.01, 0.012, 0.002, 0.002]\n",
      "remaining impurity: 0.6633420000000001\n",
      "information gain: 0.3306579999999999\n",
      "====================\n",
      "target feature: Polyphagia\n",
      "descriptive_feature: Gender\n",
      "split criterion: entropy\n",
      "impurity of partitions: [0.952, 0.972]\n",
      "weights of partitions: [0.631, 0.369]\n",
      "remaining impurity: 0.95938\n",
      "information gain: 0.034619999999999984\n",
      "====================\n",
      "target feature: Polyphagia\n",
      "descriptive_feature: Polyuria\n",
      "split criterion: entropy\n",
      "impurity of partitions: [0.843, 0.94]\n",
      "weights of partitions: [0.504, 0.496]\n",
      "remaining impurity: 0.8911119999999999\n",
      "information gain: 0.10288800000000009\n",
      "====================\n",
      "target feature: Polyphagia\n",
      "descriptive_feature: Polydipsia\n",
      "split criterion: entropy\n",
      "impurity of partitions: [0.95, 0.897]\n",
      "weights of partitions: [0.448, 0.552]\n",
      "remaining impurity: 0.920744\n",
      "information gain: 0.07325599999999999\n",
      "====================\n",
      "target feature: Polyphagia\n",
      "descriptive_feature: sudden weight loss\n",
      "split criterion: entropy\n",
      "impurity of partitions: [0.937, 0.971]\n",
      "weights of partitions: [0.583, 0.417]\n",
      "remaining impurity: 0.9511779999999999\n",
      "information gain: 0.04282200000000014\n",
      "====================\n",
      "target feature: Polyphagia\n",
      "descriptive_feature: weakness\n",
      "split criterion: entropy\n",
      "impurity of partitions: [0.997, 0.933]\n",
      "weights of partitions: [0.587, 0.413]\n",
      "remaining impurity: 0.9705679999999999\n",
      "information gain: 0.02343200000000012\n",
      "====================\n",
      "target feature: Polyphagia\n",
      "descriptive_feature: Genital thrush\n",
      "split criterion: entropy\n",
      "impurity of partitions: [0.998, 0.969]\n",
      "weights of partitions: [0.777, 0.223]\n",
      "remaining impurity: 0.991533\n",
      "information gain: 0.002466999999999997\n",
      "====================\n",
      "target feature: Polyphagia\n",
      "descriptive_feature: visual blurring\n",
      "split criterion: entropy\n",
      "impurity of partitions: [0.909, 0.959]\n",
      "weights of partitions: [0.552, 0.448]\n",
      "remaining impurity: 0.9314000000000001\n",
      "information gain: 0.06259999999999988\n",
      "====================\n",
      "target feature: Polyphagia\n",
      "descriptive_feature: Itching\n",
      "split criterion: entropy\n",
      "impurity of partitions: [0.997, 0.962]\n",
      "weights of partitions: [0.487, 0.513]\n",
      "remaining impurity: 0.9790449999999999\n",
      "information gain: 0.014955000000000052\n",
      "====================\n",
      "target feature: Polyphagia\n",
      "descriptive_feature: Irritability\n",
      "split criterion: entropy\n",
      "impurity of partitions: [0.964, 0.918]\n",
      "weights of partitions: [0.758, 0.242]\n",
      "remaining impurity: 0.952868\n",
      "information gain: 0.041131999999999946\n",
      "====================\n",
      "target feature: Polyphagia\n",
      "descriptive_feature: delayed healing\n",
      "split criterion: entropy\n",
      "impurity of partitions: [0.972, 0.919]\n",
      "weights of partitions: [0.46, 0.54]\n",
      "remaining impurity: 0.9433800000000001\n",
      "information gain: 0.05061999999999989\n",
      "====================\n",
      "target feature: Polyphagia\n",
      "descriptive_feature: partial paresis\n",
      "split criterion: entropy\n",
      "impurity of partitions: [0.874, 0.915]\n",
      "weights of partitions: [0.569, 0.431]\n",
      "remaining impurity: 0.891671\n",
      "information gain: 0.102329\n",
      "====================\n",
      "target feature: Polyphagia\n",
      "descriptive_feature: muscle stiffness\n",
      "split criterion: entropy\n",
      "impurity of partitions: [0.923, 0.917]\n",
      "weights of partitions: [0.375, 0.625]\n",
      "remaining impurity: 0.91925\n",
      "information gain: 0.07474999999999998\n",
      "====================\n",
      "target feature: Polyphagia\n",
      "descriptive_feature: Alopecia\n",
      "split criterion: entropy\n",
      "impurity of partitions: [0.981, 0.998]\n",
      "weights of partitions: [0.344, 0.656]\n",
      "remaining impurity: 0.992152\n",
      "information gain: 0.0018479999999999608\n",
      "====================\n",
      "target feature: Polyphagia\n",
      "descriptive_feature: Obesity\n",
      "split criterion: entropy\n",
      "impurity of partitions: [1.0, 0.993]\n",
      "weights of partitions: [0.169, 0.831]\n",
      "remaining impurity: 0.994183\n",
      "information gain: -0.00018300000000004424\n",
      "====================\n",
      "target feature: Polyphagia\n",
      "descriptive_feature: class\n",
      "split criterion: entropy\n",
      "impurity of partitions: [0.976, 0.795]\n",
      "weights of partitions: [0.615, 0.385]\n",
      "remaining impurity: 0.906315\n",
      "information gain: 0.08768500000000001\n",
      "====================\n"
     ]
    }
   ],
   "source": [
    "split_criterion = 'entropy'\n",
    "for feature in df.drop(columns='Polyphagia').columns:\n",
    "    feature_info_gain = comp_feature_information_gain(df, 'Polyphagia', feature, split_criterion)"
   ]
  },
  {
   "cell_type": "code",
   "execution_count": null,
   "id": "f6c7e48a",
   "metadata": {},
   "outputs": [],
   "source": []
  }
 ],
 "metadata": {
  "kernelspec": {
   "display_name": "Python 3",
   "language": "python",
   "name": "python3"
  },
  "language_info": {
   "codemirror_mode": {
    "name": "ipython",
    "version": 3
   },
   "file_extension": ".py",
   "mimetype": "text/x-python",
   "name": "python",
   "nbconvert_exporter": "python",
   "pygments_lexer": "ipython3",
   "version": "3.8.8"
  }
 },
 "nbformat": 4,
 "nbformat_minor": 5
}
