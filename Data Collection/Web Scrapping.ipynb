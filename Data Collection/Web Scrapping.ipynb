{
 "cells": [
  {
   "cell_type": "markdown",
   "id": "db417519",
   "metadata": {},
   "source": [
    "### Import the neccesary packages"
   ]
  },
  {
   "cell_type": "code",
   "execution_count": 2,
   "id": "10504e22",
   "metadata": {},
   "outputs": [],
   "source": [
    "from requests import get\n",
    "from requests.exceptions import RequestException\n",
    "from contextlib import closing\n",
    "from bs4 import BeautifulSoup\n",
    "import pandas as pd\n",
    "import re\n",
    "import os, sys\n",
    "import fire"
   ]
  },
  {
   "cell_type": "markdown",
   "id": "d8d7f476",
   "metadata": {},
   "source": [
    "### This is the function to get the data from the websites using the get HHTP request. "
   ]
  },
  {
   "cell_type": "code",
   "execution_count": 3,
   "id": "7353edb8",
   "metadata": {},
   "outputs": [],
   "source": [
    "def simple_get(url):\n",
    "    try:\n",
    "        with closing(get(url, stream=True)) as resp:\n",
    "            if is_good_response(resp):\n",
    "                return resp.content\n",
    "            else:\n",
    "                return None\n",
    "    except RequestException as e:\n",
    "        log_error('Error during requests to {0} : {1}'.format(url, str(e)))\n",
    "        return None"
   ]
  },
  {
   "cell_type": "code",
   "execution_count": null,
   "id": "ce95065b",
   "metadata": {},
   "outputs": [],
   "source": []
  }
 ],
 "metadata": {
  "kernelspec": {
   "display_name": "Python 3",
   "language": "python",
   "name": "python3"
  },
  "language_info": {
   "codemirror_mode": {
    "name": "ipython",
    "version": 3
   },
   "file_extension": ".py",
   "mimetype": "text/x-python",
   "name": "python",
   "nbconvert_exporter": "python",
   "pygments_lexer": "ipython3",
   "version": "3.8.8"
  }
 },
 "nbformat": 4,
 "nbformat_minor": 5
}
