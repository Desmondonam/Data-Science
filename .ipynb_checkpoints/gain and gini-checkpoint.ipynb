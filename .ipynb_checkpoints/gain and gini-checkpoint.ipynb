{
 "cells": [
  {
   "cell_type": "code",
   "execution_count": 1,
   "id": "d4319712",
   "metadata": {},
   "outputs": [],
   "source": [
    "import pandas as pd\n",
    "import numpy as np\n"
   ]
  },
  {
   "cell_type": "markdown",
   "id": "9246f369",
   "metadata": {},
   "source": [
    "### get the data in this file"
   ]
  },
  {
   "cell_type": "code",
   "execution_count": 10,
   "id": "94af96b7",
   "metadata": {
    "scrolled": true
   },
   "outputs": [
    {
     "name": "stdout",
     "output_type": "stream",
     "text": [
      "     Age  Gender Polyuria Polydipsia sudden weight loss weakness Polyphagia  \\\n",
      "0     40    Male       No        Yes                 No      Yes         No   \n",
      "1     58    Male       No         No                 No      Yes         No   \n",
      "2     41    Male      Yes         No                 No      Yes        Yes   \n",
      "3     45    Male       No         No                Yes      Yes        Yes   \n",
      "4     60    Male      Yes        Yes                Yes      Yes        Yes   \n",
      "..   ...     ...      ...        ...                ...      ...        ...   \n",
      "515   39  Female      Yes        Yes                Yes       No        Yes   \n",
      "516   48  Female      Yes        Yes                Yes      Yes        Yes   \n",
      "517   58  Female      Yes        Yes                Yes      Yes        Yes   \n",
      "518   32  Female       No         No                 No      Yes         No   \n",
      "519   42    Male       No         No                 No       No         No   \n",
      "\n",
      "    Genital thrush visual blurring Itching Irritability delayed healing  \\\n",
      "0               No              No     Yes           No             Yes   \n",
      "1               No             Yes      No           No              No   \n",
      "2               No              No     Yes           No             Yes   \n",
      "3              Yes              No     Yes           No             Yes   \n",
      "4               No             Yes     Yes          Yes             Yes   \n",
      "..             ...             ...     ...          ...             ...   \n",
      "515             No              No     Yes           No             Yes   \n",
      "516             No              No     Yes          Yes             Yes   \n",
      "517             No             Yes      No           No              No   \n",
      "518             No             Yes     Yes           No             Yes   \n",
      "519             No              No      No           No              No   \n",
      "\n",
      "    partial paresis muscle stiffness Alopecia Obesity     class  \n",
      "0                No              Yes      Yes     Yes  Positive  \n",
      "1               Yes               No      Yes      No  Positive  \n",
      "2                No              Yes      Yes      No  Positive  \n",
      "3                No               No       No      No  Positive  \n",
      "4               Yes              Yes      Yes     Yes  Positive  \n",
      "..              ...              ...      ...     ...       ...  \n",
      "515             Yes               No       No      No  Positive  \n",
      "516             Yes               No       No      No  Positive  \n",
      "517             Yes              Yes       No     Yes  Positive  \n",
      "518              No               No      Yes      No  Negative  \n",
      "519              No               No       No      No  Negative  \n",
      "\n",
      "[520 rows x 17 columns]\n"
     ]
    }
   ],
   "source": [
    "data = pd.read_excel (r'D:/Grace/data.xlsx')\n",
    "print (data)"
   ]
  },
  {
   "cell_type": "code",
   "execution_count": 12,
   "id": "7003bb01",
   "metadata": {},
   "outputs": [],
   "source": [
    "def gini(weakness):\n",
    "    sorted_list = sorted(weakness)\n",
    "    yes, no = 0, 0\n",
    "    for value in sorted_list:\n",
    "        yes += value\n",
    "        no += yes - value / 2.\n",
    "    fair_no = yes * len(weakness) / 2.\n",
    "    return (fair_no - no) / fair_no"
   ]
  },
  {
   "cell_type": "code",
   "execution_count": 13,
   "id": "1fd2cd4f",
   "metadata": {},
   "outputs": [
    {
     "name": "stdout",
     "output_type": "stream",
     "text": [
      "0.6730116670092565\n"
     ]
    }
   ],
   "source": [
    "from scipy.stats import entropy\n",
    "def information_gain(members, split):\n",
    "    '''\n",
    "    Measures the reduction in entropy after the split  \n",
    "    :param v: Pandas Series of the members\n",
    "    :param split:\n",
    "    :return:\n",
    "    '''\n",
    "    entropy_before = entropy(members.value_counts(normalize=True))\n",
    "    split.name = 'split'\n",
    "    members.name = 'members'\n",
    "    grouped_distrib = members.groupby(split) \\\n",
    "                        .value_counts(normalize=True) \\\n",
    "                        .reset_index(name='count') \\\n",
    "                        .pivot_table(index='split', columns='members', values='count').fillna(0) \n",
    "    entropy_after = entropy(grouped_distrib, axis=1)\n",
    "    entropy_after *= split.value_counts(sort=False, normalize=True)\n",
    "    return entropy_before - entropy_after.sum()\n",
    "\n",
    "members = pd.Series(['yellow','yellow','green','green','blue'])\n",
    "split = pd.Series([0,0,1,1,0])\n",
    "print (information_gain(members, split))"
   ]
  },
  {
   "cell_type": "code",
   "execution_count": 16,
   "id": "3a8ba98e",
   "metadata": {},
   "outputs": [
    {
     "ename": "NameError",
     "evalue": "name 'weakness' is not defined",
     "output_type": "error",
     "traceback": [
      "\u001b[1;31m---------------------------------------------------------------------------\u001b[0m",
      "\u001b[1;31mNameError\u001b[0m                                 Traceback (most recent call last)",
      "\u001b[1;32m<ipython-input-16-4d3c4a589e02>\u001b[0m in \u001b[0;36m<module>\u001b[1;34m\u001b[0m\n\u001b[0;32m     19\u001b[0m     \u001b[1;32mreturn\u001b[0m \u001b[0mentropy_before\u001b[0m \u001b[1;33m-\u001b[0m \u001b[0mentropy_after\u001b[0m\u001b[1;33m.\u001b[0m\u001b[0msum\u001b[0m\u001b[1;33m(\u001b[0m\u001b[1;33m)\u001b[0m\u001b[1;33m\u001b[0m\u001b[1;33m\u001b[0m\u001b[0m\n\u001b[0;32m     20\u001b[0m \u001b[1;33m\u001b[0m\u001b[0m\n\u001b[1;32m---> 21\u001b[1;33m \u001b[0mmember\u001b[0m \u001b[1;33m=\u001b[0m \u001b[0mdata\u001b[0m\u001b[1;33m[\u001b[0m\u001b[0mweakness\u001b[0m\u001b[1;33m]\u001b[0m\u001b[1;33m\u001b[0m\u001b[1;33m\u001b[0m\u001b[0m\n\u001b[0m\u001b[0;32m     22\u001b[0m \u001b[0msplits\u001b[0m \u001b[1;33m=\u001b[0m \u001b[0mdata\u001b[0m\u001b[1;33m[\u001b[0m\u001b[0mweakness\u001b[0m\u001b[1;33m]\u001b[0m\u001b[1;33m\u001b[0m\u001b[1;33m\u001b[0m\u001b[0m\n\u001b[0;32m     23\u001b[0m \u001b[1;33m\u001b[0m\u001b[0m\n",
      "\u001b[1;31mNameError\u001b[0m: name 'weakness' is not defined"
     ]
    }
   ],
   "source": [
    "from scipy.stats import entropy\n",
    "import pandas as pd\n",
    "def information_gain(members, split):\n",
    "    '''\n",
    "    Measures the reduction in entropy after the split  \n",
    "    :param v: Pandas Series of the members\n",
    "    :param split:\n",
    "    :return:\n",
    "    '''\n",
    "    entropy_before = entropy(members.value_counts(normalize=True))\n",
    "    split.name = 'split'\n",
    "    members.name = 'members'\n",
    "    grouped_distrib = members.groupby(split) \\\n",
    "                        .value_counts(normalize=True) \\\n",
    "                        .reset_index(name='count') \\\n",
    "                        .pivot_table(index='split', columns='members', values='count').fillna(0) \n",
    "    entropy_after = entropy(grouped_distrib, axis=1)\n",
    "    entropy_after *= split.value_counts(sort=False, normalize=True)\n",
    "    return entropy_before - entropy_after.sum()\n",
    "\n",
    "member = data[weakness]\n",
    "splits = data[weakness]\n",
    "\n",
    "members = pd.Series(['yellow','yellow','green','green','blue'])\n",
    "split = pd.Series([0,0,1,1,0])\n",
    "print (information_gain(member, splits))"
   ]
  },
  {
   "cell_type": "code",
   "execution_count": 18,
   "id": "bd6c5746",
   "metadata": {},
   "outputs": [
    {
     "ename": "NameError",
     "evalue": "name 'weakness' is not defined",
     "output_type": "error",
     "traceback": [
      "\u001b[1;31m---------------------------------------------------------------------------\u001b[0m",
      "\u001b[1;31mNameError\u001b[0m                                 Traceback (most recent call last)",
      "\u001b[1;32m<ipython-input-18-48e6f25dcd1f>\u001b[0m in \u001b[0;36m<module>\u001b[1;34m\u001b[0m\n\u001b[1;32m----> 1\u001b[1;33m \u001b[0mweakness\u001b[0m \u001b[1;33m=\u001b[0m \u001b[0mdata\u001b[0m\u001b[1;33m[\u001b[0m\u001b[1;33m[\u001b[0m\u001b[0mweakness\u001b[0m\u001b[1;33m]\u001b[0m\u001b[1;33m]\u001b[0m\u001b[1;33m\u001b[0m\u001b[1;33m\u001b[0m\u001b[0m\n\u001b[0m\u001b[0;32m      2\u001b[0m \u001b[0mweakness\u001b[0m\u001b[1;33m\u001b[0m\u001b[1;33m\u001b[0m\u001b[0m\n",
      "\u001b[1;31mNameError\u001b[0m: name 'weakness' is not defined"
     ]
    }
   ],
   "source": [
    "weakness = data[[weakness]]\n",
    "weakness"
   ]
  },
  {
   "cell_type": "code",
   "execution_count": 19,
   "id": "482c7239",
   "metadata": {},
   "outputs": [],
   "source": [
    "from typing import List\n",
    "from itertools import combinations\n",
    "\n",
    "import numpy as np\n",
    "\n",
    "def gini(x: List[float]) -> float:\n",
    "    x = np.array(x, dtype=np.float32)\n",
    "    n = len(x)\n",
    "    diffs = sum(abs(i - j) for i, j in combinations(x, r=2))\n",
    "    return diffs / (2 * n**2 * x.mean())"
   ]
  },
  {
   "cell_type": "code",
   "execution_count": 20,
   "id": "a101b282",
   "metadata": {},
   "outputs": [
    {
     "data": {
      "image/png": "[encoded data removed]",
      "text/plain": [
       "<Figure size 432x288 with 1 Axes>"
      ]
     },
     "metadata": {
      "needs_background": "light"
     },
     "output_type": "display_data"
    }
   ],
   "source": [
    "import matplotlib.pyplot as plt\n",
    "import numpy as np\n",
    "\n",
    "def gini(p):\n",
    "   return (p)*(1 - (p)) + (1 - p)*(1 - (1-p))\n",
    "\n",
    "def entropy(p):\n",
    "   return - p*np.log2(p) - (1 - p)*np.log2((1 - p))\n",
    "\n",
    "def classification_error(p):\n",
    "   return 1 - np.max([p, 1 - p])\n",
    "\n",
    "x = np.arange(0.0, 1.0, 0.01)\n",
    "ent = [entropy(p) if p != 0 else None for p in x]\n",
    "scaled_ent = [e*0.5 if e else None for e in ent]\n",
    "c_err = [classification_error(i) for i in x]\n",
    "\n",
    "fig = plt.figure()\n",
    "ax = plt.subplot(111)\n",
    "\n",
    "for j, lab, ls, c, in zip(\n",
    "      [ent, scaled_ent, gini(x), c_err],\n",
    "      ['Entropy', 'Entropy (scaled)', 'Gini Impurity', 'Misclassification Error'],\n",
    "      ['-', '-', '--', '-.'],\n",
    "      ['lightgray', 'red', 'green', 'blue']):\n",
    "   line = ax.plot(x, j, label=lab, linestyle=ls, lw=1, color=c)\n",
    "\n",
    "ax.legend(loc='upper left', bbox_to_anchor=(0.01, 0.85),\n",
    "         ncol=1, fancybox=True, shadow=False)\n",
    "\n",
    "ax.axhline(y=0.5, linewidth=1, color='k', linestyle='--')\n",
    "ax.axhline(y=1.0, linewidth=1, color='k', linestyle='--')\n",
    "\n",
    "plt.ylim([0, 1.1])\n",
    "plt.xlabel('p(j=1)')\n",
    "plt.ylabel('Impurity Index')\n",
    "plt.show()\n"
   ]
  },
  {
   "cell_type": "code",
   "execution_count": 1,
   "id": "76f4d5bd",
   "metadata": {},
   "outputs": [
    {
     "ename": "NameError",
     "evalue": "name 'df1' is not defined",
     "output_type": "error",
     "traceback": [
      "\u001b[1;31m---------------------------------------------------------------------------\u001b[0m",
      "\u001b[1;31mNameError\u001b[0m                                 Traceback (most recent call last)",
      "\u001b[1;32m<ipython-input-1-04fd21c10ac2>\u001b[0m in \u001b[0;36m<module>\u001b[1;34m\u001b[0m\n\u001b[0;32m      8\u001b[0m     \u001b[1;32mreturn\u001b[0m \u001b[0mgini\u001b[0m\u001b[1;33m\u001b[0m\u001b[1;33m\u001b[0m\u001b[0m\n\u001b[0;32m      9\u001b[0m \u001b[1;33m\u001b[0m\u001b[0m\n\u001b[1;32m---> 10\u001b[1;33m \u001b[0mclass_value_counts\u001b[0m \u001b[1;33m=\u001b[0m \u001b[0mdf1\u001b[0m\u001b[1;33m[\u001b[0m\u001b[0mclass_name\u001b[0m\u001b[1;33m]\u001b[0m\u001b[1;33m.\u001b[0m\u001b[0mvalue_counts\u001b[0m\u001b[1;33m(\u001b[0m\u001b[1;33m)\u001b[0m\u001b[1;33m\u001b[0m\u001b[1;33m\u001b[0m\u001b[0m\n\u001b[0m\u001b[0;32m     11\u001b[0m \u001b[0mprint\u001b[0m\u001b[1;33m(\u001b[0m\u001b[1;34mf'Number of samples in each class is:\\n{class_value_counts}'\u001b[0m\u001b[1;33m)\u001b[0m\u001b[1;33m\u001b[0m\u001b[1;33m\u001b[0m\u001b[0m\n\u001b[0;32m     12\u001b[0m \u001b[1;33m\u001b[0m\u001b[0m\n",
      "\u001b[1;31mNameError\u001b[0m: name 'df1' is not defined"
     ]
    }
   ],
   "source": [
    "# STEP 1: Calculate gini(D)\n",
    "def gini_impurity (value_counts):\n",
    "    n = value_counts.sum()\n",
    "    p_sum = 0\n",
    "    for key in value_counts.keys():\n",
    "        p_sum = p_sum  +  (value_counts[key] / n ) * (value_counts[key] / n ) \n",
    "    gini = 1 - p_sum\n",
    "    return gini\n",
    "\n",
    "class_value_counts = df1[class_name].value_counts()\n",
    "print(f'Number of samples in each class is:\\n{class_value_counts}')\n",
    "\n",
    "gini_class = gini_impurity(class_value_counts)\n",
    "print(f'\\nGini Impurity of the class is {gini_class:.3f}')"
   ]
  },
  {
   "cell_type": "code",
   "execution_count": 2,
   "id": "65521a11",
   "metadata": {},
   "outputs": [
    {
     "ename": "NameError",
     "evalue": "name 'attribute_names' is not defined",
     "output_type": "error",
     "traceback": [
      "\u001b[1;31m---------------------------------------------------------------------------\u001b[0m",
      "\u001b[1;31mNameError\u001b[0m                                 Traceback (most recent call last)",
      "\u001b[1;32m<ipython-input-2-e478ed62dec4>\u001b[0m in \u001b[0;36m<module>\u001b[1;34m\u001b[0m\n\u001b[0;32m     12\u001b[0m \u001b[1;33m\u001b[0m\u001b[0m\n\u001b[0;32m     13\u001b[0m \u001b[0mgini_attiribute\u001b[0m \u001b[1;33m=\u001b[0m\u001b[1;33m{\u001b[0m\u001b[1;33m}\u001b[0m\u001b[1;33m\u001b[0m\u001b[1;33m\u001b[0m\u001b[0m\n\u001b[1;32m---> 14\u001b[1;33m \u001b[1;32mfor\u001b[0m \u001b[0mkey\u001b[0m \u001b[1;32min\u001b[0m \u001b[0mattribute_names\u001b[0m\u001b[1;33m:\u001b[0m\u001b[1;33m\u001b[0m\u001b[1;33m\u001b[0m\u001b[0m\n\u001b[0m\u001b[0;32m     15\u001b[0m     \u001b[0mgini_attiribute\u001b[0m\u001b[1;33m[\u001b[0m\u001b[0mkey\u001b[0m\u001b[1;33m]\u001b[0m \u001b[1;33m=\u001b[0m \u001b[0mgini_split_a\u001b[0m\u001b[1;33m(\u001b[0m\u001b[0mkey\u001b[0m\u001b[1;33m)\u001b[0m\u001b[1;33m\u001b[0m\u001b[1;33m\u001b[0m\u001b[0m\n\u001b[0;32m     16\u001b[0m     \u001b[0mprint\u001b[0m\u001b[1;33m(\u001b[0m\u001b[1;34mf'Gini for {key} is {gini_attiribute[key]:.3f}'\u001b[0m\u001b[1;33m)\u001b[0m\u001b[1;33m\u001b[0m\u001b[1;33m\u001b[0m\u001b[0m\n",
      "\u001b[1;31mNameError\u001b[0m: name 'attribute_names' is not defined"
     ]
    }
   ],
   "source": [
    "# STEP 2: \n",
    "# Calculating  gini impurity for the attiributes\n",
    "def gini_split_a(attribute_name):\n",
    "    attribute_values = df1[attribute_name].value_counts()\n",
    "    gini_A = 0 \n",
    "    for key in attribute_values.keys():\n",
    "        df_k = df1[class_name][df1[attribute_name] == key].value_counts()\n",
    "        n_k = attribute_values[key]\n",
    "        n = df1.shape[0]\n",
    "        gini_A = gini_A + (( n_k / n) * gini_impurity(df_k))\n",
    "    return gini_A\n",
    "\n",
    "gini_attiribute ={}\n",
    "for key in attribute_names:\n",
    "    gini_attiribute[key] = gini_split_a(key)\n",
    "    print(f'Gini for {key} is {gini_attiribute[key]:.3f}')"
   ]
  },
  {
   "cell_type": "code",
   "execution_count": 3,
   "id": "61aebef8",
   "metadata": {},
   "outputs": [
    {
     "ename": "ValueError",
     "evalue": "min() arg is an empty sequence",
     "output_type": "error",
     "traceback": [
      "\u001b[1;31m---------------------------------------------------------------------------\u001b[0m",
      "\u001b[1;31mValueError\u001b[0m                                Traceback (most recent call last)",
      "\u001b[1;32m<ipython-input-3-e2832b00556a>\u001b[0m in \u001b[0;36m<module>\u001b[1;34m\u001b[0m\n\u001b[0;32m      3\u001b[0m \u001b[1;31m# An attribute has maximum Gini gain is selected for splitting.\u001b[0m\u001b[1;33m\u001b[0m\u001b[1;33m\u001b[0m\u001b[1;33m\u001b[0m\u001b[0m\n\u001b[0;32m      4\u001b[0m \u001b[1;33m\u001b[0m\u001b[0m\n\u001b[1;32m----> 5\u001b[1;33m \u001b[0mmin_value\u001b[0m \u001b[1;33m=\u001b[0m \u001b[0mmin\u001b[0m\u001b[1;33m(\u001b[0m\u001b[0mgini_attiribute\u001b[0m\u001b[1;33m.\u001b[0m\u001b[0mvalues\u001b[0m\u001b[1;33m(\u001b[0m\u001b[1;33m)\u001b[0m\u001b[1;33m)\u001b[0m\u001b[1;33m\u001b[0m\u001b[1;33m\u001b[0m\u001b[0m\n\u001b[0m\u001b[0;32m      6\u001b[0m \u001b[0mprint\u001b[0m\u001b[1;33m(\u001b[0m\u001b[1;34m'The minimum value of Gini Impurity : {0:.3} '\u001b[0m\u001b[1;33m.\u001b[0m\u001b[0mformat\u001b[0m\u001b[1;33m(\u001b[0m\u001b[0mmin_value\u001b[0m\u001b[1;33m)\u001b[0m\u001b[1;33m)\u001b[0m\u001b[1;33m\u001b[0m\u001b[1;33m\u001b[0m\u001b[0m\n\u001b[0;32m      7\u001b[0m \u001b[0mprint\u001b[0m\u001b[1;33m(\u001b[0m\u001b[1;34m'The maximum value of Gini Gain     : {0:.3} '\u001b[0m\u001b[1;33m.\u001b[0m\u001b[0mformat\u001b[0m\u001b[1;33m(\u001b[0m\u001b[1;36m1\u001b[0m\u001b[1;33m-\u001b[0m\u001b[0mmin_value\u001b[0m\u001b[1;33m)\u001b[0m\u001b[1;33m)\u001b[0m\u001b[1;33m\u001b[0m\u001b[1;33m\u001b[0m\u001b[0m\n",
      "\u001b[1;31mValueError\u001b[0m: min() arg is an empty sequence"
     ]
    }
   ],
   "source": [
    "# STEP 3: \n",
    "# Compute Gini gain values to find the best split\n",
    "# An attribute has maximum Gini gain is selected for splitting.\n",
    "\n",
    "min_value = min(gini_attiribute.values())\n",
    "print('The minimum value of Gini Impurity : {0:.3} '.format(min_value))\n",
    "print('The maximum value of Gini Gain     : {0:.3} '.format(1-min_value))\n",
    "\n",
    "selected_attribute = min(gini_attiribute.keys())\n",
    "print('The selected attiribute is: ', selected_attribute)\n"
   ]
  },
  {
   "cell_type": "code",
   "execution_count": null,
   "id": "aacf2107",
   "metadata": {},
   "outputs": [],
   "source": []
  }
 ],
 "metadata": {
  "kernelspec": {
   "display_name": "Python 3",
   "language": "python",
   "name": "python3"
  },
  "language_info": {
   "codemirror_mode": {
    "name": "ipython",
    "version": 3
   },
   "file_extension": ".py",
   "mimetype": "text/x-python",
   "name": "python",
   "nbconvert_exporter": "python",
   "pygments_lexer": "ipython3",
   "version": "3.8.8"
  }
 },
 "nbformat": 4,
 "nbformat_minor": 5
}
