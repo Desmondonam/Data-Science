{
 "cells": [
  {
   "cell_type": "code",
   "execution_count": 1,
   "id": "ad2bd66a",
   "metadata": {},
   "outputs": [],
   "source": [
    "import pandas as pd\n",
    "import numpy as np\n"
   ]
  },
  {
   "cell_type": "markdown",
   "id": "3b531942",
   "metadata": {},
   "source": [
    "### get the data in this file"
   ]
  },
  {
   "cell_type": "code",
   "execution_count": 10,
   "id": "8faa1495",
   "metadata": {
    "scrolled": true
   },
   "outputs": [
    {
     "name": "stdout",
     "output_type": "stream",
     "text": [
      "     Age  Gender Polyuria Polydipsia sudden weight loss weakness Polyphagia  \\\n",
      "0     40    Male       No        Yes                 No      Yes         No   \n",
      "1     58    Male       No         No                 No      Yes         No   \n",
      "2     41    Male      Yes         No                 No      Yes        Yes   \n",
      "3     45    Male       No         No                Yes      Yes        Yes   \n",
      "4     60    Male      Yes        Yes                Yes      Yes        Yes   \n",
      "..   ...     ...      ...        ...                ...      ...        ...   \n",
      "515   39  Female      Yes        Yes                Yes       No        Yes   \n",
      "516   48  Female      Yes        Yes                Yes      Yes        Yes   \n",
      "517   58  Female      Yes        Yes                Yes      Yes        Yes   \n",
      "518   32  Female       No         No                 No      Yes         No   \n",
      "519   42    Male       No         No                 No       No         No   \n",
      "\n",
      "    Genital thrush visual blurring Itching Irritability delayed healing  \\\n",
      "0               No              No     Yes           No             Yes   \n",
      "1               No             Yes      No           No              No   \n",
      "2               No              No     Yes           No             Yes   \n",
      "3              Yes              No     Yes           No             Yes   \n",
      "4               No             Yes     Yes          Yes             Yes   \n",
      "..             ...             ...     ...          ...             ...   \n",
      "515             No              No     Yes           No             Yes   \n",
      "516             No              No     Yes          Yes             Yes   \n",
      "517             No             Yes      No           No              No   \n",
      "518             No             Yes     Yes           No             Yes   \n",
      "519             No              No      No           No              No   \n",
      "\n",
      "    partial paresis muscle stiffness Alopecia Obesity     class  \n",
      "0                No              Yes      Yes     Yes  Positive  \n",
      "1               Yes               No      Yes      No  Positive  \n",
      "2                No              Yes      Yes      No  Positive  \n",
      "3                No               No       No      No  Positive  \n",
      "4               Yes              Yes      Yes     Yes  Positive  \n",
      "..              ...              ...      ...     ...       ...  \n",
      "515             Yes               No       No      No  Positive  \n",
      "516             Yes               No       No      No  Positive  \n",
      "517             Yes              Yes       No     Yes  Positive  \n",
      "518              No               No      Yes      No  Negative  \n",
      "519              No               No       No      No  Negative  \n",
      "\n",
      "[520 rows x 17 columns]\n"
     ]
    }
   ],
   "source": [
    "data = pd.read_excel (r'D:/Grace/data.xlsx')\n",
    "print (data)"
   ]
  },
  {
   "cell_type": "code",
   "execution_count": 12,
   "id": "10d6c0d6",
   "metadata": {},
   "outputs": [],
   "source": [
    "def gini(weakness):\n",
    "    sorted_list = sorted(weakness)\n",
    "    yes, no = 0, 0\n",
    "    for value in sorted_list:\n",
    "        yes += value\n",
    "        no += yes - value / 2.\n",
    "    fair_no = yes * len(weakness) / 2.\n",
    "    return (fair_no - no) / fair_no"
   ]
  },
  {
   "cell_type": "code",
   "execution_count": 13,
   "id": "6ed886fd",
   "metadata": {},
   "outputs": [
    {
     "name": "stdout",
     "output_type": "stream",
     "text": [
      "0.6730116670092565\n"
     ]
    }
   ],
   "source": [
    "from scipy.stats import entropy\n",
    "def information_gain(members, split):\n",
    "    '''\n",
    "    Measures the reduction in entropy after the split  \n",
    "    :param v: Pandas Series of the members\n",
    "    :param split:\n",
    "    :return:\n",
    "    '''\n",
    "    entropy_before = entropy(members.value_counts(normalize=True))\n",
    "    split.name = 'split'\n",
    "    members.name = 'members'\n",
    "    grouped_distrib = members.groupby(split) \\\n",
    "                        .value_counts(normalize=True) \\\n",
    "                        .reset_index(name='count') \\\n",
    "                        .pivot_table(index='split', columns='members', values='count').fillna(0) \n",
    "    entropy_after = entropy(grouped_distrib, axis=1)\n",
    "    entropy_after *= split.value_counts(sort=False, normalize=True)\n",
    "    return entropy_before - entropy_after.sum()\n",
    "\n",
    "members = pd.Series(['yellow','yellow','green','green','blue'])\n",
    "split = pd.Series([0,0,1,1,0])\n",
    "print (information_gain(members, split))"
   ]
  },
  {
   "cell_type": "code",
   "execution_count": 16,
   "id": "82beef6e",
   "metadata": {},
   "outputs": [
    {
     "ename": "NameError",
     "evalue": "name 'weakness' is not defined",
     "output_type": "error",
     "traceback": [
      "\u001b[1;31m---------------------------------------------------------------------------\u001b[0m",
      "\u001b[1;31mNameError\u001b[0m                                 Traceback (most recent call last)",
      "\u001b[1;32m<ipython-input-16-4d3c4a589e02>\u001b[0m in \u001b[0;36m<module>\u001b[1;34m\u001b[0m\n\u001b[0;32m     19\u001b[0m     \u001b[1;32mreturn\u001b[0m \u001b[0mentropy_before\u001b[0m \u001b[1;33m-\u001b[0m \u001b[0mentropy_after\u001b[0m\u001b[1;33m.\u001b[0m\u001b[0msum\u001b[0m\u001b[1;33m(\u001b[0m\u001b[1;33m)\u001b[0m\u001b[1;33m\u001b[0m\u001b[1;33m\u001b[0m\u001b[0m\n\u001b[0;32m     20\u001b[0m \u001b[1;33m\u001b[0m\u001b[0m\n\u001b[1;32m---> 21\u001b[1;33m \u001b[0mmember\u001b[0m \u001b[1;33m=\u001b[0m \u001b[0mdata\u001b[0m\u001b[1;33m[\u001b[0m\u001b[0mweakness\u001b[0m\u001b[1;33m]\u001b[0m\u001b[1;33m\u001b[0m\u001b[1;33m\u001b[0m\u001b[0m\n\u001b[0m\u001b[0;32m     22\u001b[0m \u001b[0msplits\u001b[0m \u001b[1;33m=\u001b[0m \u001b[0mdata\u001b[0m\u001b[1;33m[\u001b[0m\u001b[0mweakness\u001b[0m\u001b[1;33m]\u001b[0m\u001b[1;33m\u001b[0m\u001b[1;33m\u001b[0m\u001b[0m\n\u001b[0;32m     23\u001b[0m \u001b[1;33m\u001b[0m\u001b[0m\n",
      "\u001b[1;31mNameError\u001b[0m: name 'weakness' is not defined"
     ]
    }
   ],
   "source": [
    "from scipy.stats import entropy\n",
    "import pandas as pd\n",
    "def information_gain(members, split):\n",
    "    '''\n",
    "    Measures the reduction in entropy after the split  \n",
    "    :param v: Pandas Series of the members\n",
    "    :param split:\n",
    "    :return:\n",
    "    '''\n",
    "    entropy_before = entropy(members.value_counts(normalize=True))\n",
    "    split.name = 'split'\n",
    "    members.name = 'members'\n",
    "    grouped_distrib = members.groupby(split) \\\n",
    "                        .value_counts(normalize=True) \\\n",
    "                        .reset_index(name='count') \\\n",
    "                        .pivot_table(index='split', columns='members', values='count').fillna(0) \n",
    "    entropy_after = entropy(grouped_distrib, axis=1)\n",
    "    entropy_after *= split.value_counts(sort=False, normalize=True)\n",
    "    return entropy_before - entropy_after.sum()\n",
    "\n",
    "member = data[weakness]\n",
    "splits = data[weakness]\n",
    "\n",
    "members = pd.Series(['yellow','yellow','green','green','blue'])\n",
    "split = pd.Series([0,0,1,1,0])\n",
    "print (information_gain(member, splits))"
   ]
  },
  {
   "cell_type": "code",
   "execution_count": 18,
   "id": "11d3e670",
   "metadata": {},
   "outputs": [
    {
     "ename": "NameError",
     "evalue": "name 'weakness' is not defined",
     "output_type": "error",
     "traceback": [
      "\u001b[1;31m---------------------------------------------------------------------------\u001b[0m",
      "\u001b[1;31mNameError\u001b[0m                                 Traceback (most recent call last)",
      "\u001b[1;32m<ipython-input-18-48e6f25dcd1f>\u001b[0m in \u001b[0;36m<module>\u001b[1;34m\u001b[0m\n\u001b[1;32m----> 1\u001b[1;33m \u001b[0mweakness\u001b[0m \u001b[1;33m=\u001b[0m \u001b[0mdata\u001b[0m\u001b[1;33m[\u001b[0m\u001b[1;33m[\u001b[0m\u001b[0mweakness\u001b[0m\u001b[1;33m]\u001b[0m\u001b[1;33m]\u001b[0m\u001b[1;33m\u001b[0m\u001b[1;33m\u001b[0m\u001b[0m\n\u001b[0m\u001b[0;32m      2\u001b[0m \u001b[0mweakness\u001b[0m\u001b[1;33m\u001b[0m\u001b[1;33m\u001b[0m\u001b[0m\n",
      "\u001b[1;31mNameError\u001b[0m: name 'weakness' is not defined"
     ]
    }
   ],
   "source": [
    "weakness = data[[weakness]]\n",
    "weakness"
   ]
  },
  {
   "cell_type": "code",
   "execution_count": null,
   "id": "92f05ee7",
   "metadata": {},
   "outputs": [],
   "source": []
  }
 ],
 "metadata": {
  "kernelspec": {
   "display_name": "Python 3",
   "language": "python",
   "name": "python3"
  },
  "language_info": {
   "codemirror_mode": {
    "name": "ipython",
    "version": 3
   },
   "file_extension": ".py",
   "mimetype": "text/x-python",
   "name": "python",
   "nbconvert_exporter": "python",
   "pygments_lexer": "ipython3",
   "version": "3.8.8"
  }
 },
 "nbformat": 4,
 "nbformat_minor": 5
}
